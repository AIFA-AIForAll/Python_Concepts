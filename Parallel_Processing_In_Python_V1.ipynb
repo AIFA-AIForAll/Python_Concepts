{
 "cells": [
  {
   "cell_type": "code",
   "execution_count": null,
   "id": "43ea4880",
   "metadata": {},
   "outputs": [],
   "source": [
    "#Multithreading in Python\n",
    "import threading\n",
    "import time\n",
    "\n",
    "def print_numbers():\n",
    "    for i in range(5):\n",
    "        print(i)\n",
    "        time.sleep(1)\n",
    "\n",
    "thread = threading.Thread(target=print_numbers)\n",
    "thread.start()\n",
    "thread.join()"
   ]
  },
  {
   "cell_type": "code",
   "execution_count": null,
   "id": "e2ec4e54",
   "metadata": {},
   "outputs": [],
   "source": [
    "#Multiprocessing in Python\n",
    "from multiprocessing import Process\n",
    "\n",
    "def print_message():\n",
    "    print(\"Hello from Process\")\n",
    "\n",
    "if __name__ == \"__main__\":  # Needed for Windows\n",
    "    process = Process(target=print_message)\n",
    "    process.start()\n",
    "    process.join()"
   ]
  },
  {
   "cell_type": "code",
   "execution_count": 4,
   "id": "7d913791",
   "metadata": {},
   "outputs": [
    {
     "name": "stdout",
     "output_type": "stream",
     "text": [
      "Execution Time: 0.4395308494567871\n"
     ]
    }
   ],
   "source": [
    "#Example Demonstrating GIL Impact\n",
    "import threading\n",
    "import time\n",
    "\n",
    "def compute():\n",
    "    for _ in range(10000000):\n",
    "        pass\n",
    "\n",
    "start = time.time()\n",
    "t1 = threading.Thread(target=compute)\n",
    "t2 = threading.Thread(target=compute)\n",
    "t1.start()\n",
    "t2.start()\n",
    "t1.join()\n",
    "t2.join()\n",
    "end = time.time()\n",
    "\n",
    "print(\"Execution Time:\", end - start)"
   ]
  },
  {
   "cell_type": "code",
   "execution_count": null,
   "id": "92ce73b6",
   "metadata": {},
   "outputs": [],
   "source": [
    "#Using ThreadPoolExecutor\n",
    "#Easier way to manage threads\n",
    "from concurrent.futures import ThreadPoolExecutor\n",
    "\n",
    "def task(n):\n",
    "    return n * n\n",
    "\n",
    "with ThreadPoolExecutor(max_workers=3) as executor:\n",
    "    results = executor.map(task, [1, 2, 3, 4, 5])\n",
    "    print(list(results))"
   ]
  },
  {
   "cell_type": "code",
   "execution_count": null,
   "id": "0830387c",
   "metadata": {},
   "outputs": [],
   "source": []
  },
  {
   "cell_type": "code",
   "execution_count": null,
   "id": "0ab4fa6d",
   "metadata": {},
   "outputs": [],
   "source": [
    "#Using ProcessPoolExecutor\n",
    "#Efficiently handles multiple processes\n",
    "from concurrent.futures import ProcessPoolExecutor\n",
    "def task(n):\n",
    "    return n * n\n",
    "\n",
    "if __name__ == \"__main__\":  # Needed for Windows\n",
    "    with ProcessPoolExecutor(max_workers=3) as executor:\n",
    "        results = executor.map(task, [1, 2, 3, 4, 5])\n",
    "        print(list(results))\n",
    "        \n",
    "        \n",
    "# ProcessPoolExecutor does not work well in interactive environments like Jupyter Notebook or Python REPL due to process forking issues.\n",
    "# Try running the script in a separate Python script (.py file) instead.\n",
    "\n",
    "# Windows-Specific Issue (if applicable)\n",
    "# On Windows, ProcessPoolExecutor requires the if __name__ == \"__main__\": guard to prevent recursive spawning of processes."
   ]
  },
  {
   "cell_type": "code",
   "execution_count": null,
   "id": "ab997af6",
   "metadata": {},
   "outputs": [],
   "source": [
    "#Evaluating Performance of Parallel Processing\n",
    "#Time Reduction Comparison:\n",
    "#Measure execution time for serial vs. parallel processing.\n",
    "#Example Performance Measurement:\n",
    "\n",
    "import time\n",
    "from multiprocessing import Pool\n",
    "\n",
    "def square(n):\n",
    "    return n * n\n",
    "\n",
    "if __name__ == \"__main__\":  # Needed for Windows\n",
    "    numbers = list(range(1000000))\n",
    "\n",
    "    start_time = time.time()\n",
    "    with Pool(4) as pool:\n",
    "        results = pool.map(square, numbers)\n",
    "    end_time = time.time()\n",
    "\n",
    "    print(\"Execution Time:\", end_time - start_time)\n"
   ]
  },
  {
   "cell_type": "code",
   "execution_count": null,
   "id": "d72a7638",
   "metadata": {},
   "outputs": [],
   "source": [
    "\n"
   ]
  }
 ],
 "metadata": {
  "kernelspec": {
   "display_name": "Python 3 (ipykernel)",
   "language": "python",
   "name": "python3"
  },
  "language_info": {
   "codemirror_mode": {
    "name": "ipython",
    "version": 3
   },
   "file_extension": ".py",
   "mimetype": "text/x-python",
   "name": "python",
   "nbconvert_exporter": "python",
   "pygments_lexer": "ipython3",
   "version": "3.10.9"
  }
 },
 "nbformat": 4,
 "nbformat_minor": 5
}
