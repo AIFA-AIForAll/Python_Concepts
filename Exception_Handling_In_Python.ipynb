{
 "cells": [
  {
   "cell_type": "code",
   "execution_count": 4,
   "id": "c8666636",
   "metadata": {},
   "outputs": [
    {
     "name": "stdout",
     "output_type": "stream",
     "text": [
      "Enter a number: 5\n"
     ]
    }
   ],
   "source": [
    "#Basic Try-Except Block\n",
    "try:\n",
    "    num = int(input(\"Enter a number: \"))\n",
    "    result = 10 / num\n",
    "except ZeroDivisionError:\n",
    "    print(\"Error: Cannot divide by zero!\")\n",
    "except ValueError:\n",
    "    print(\"Error: Invalid input, enter a number!\")\n"
   ]
  },
  {
   "cell_type": "code",
   "execution_count": 6,
   "id": "afbc432c",
   "metadata": {},
   "outputs": [
    {
     "name": "stdout",
     "output_type": "stream",
     "text": [
      "Error: File not found!\n"
     ]
    }
   ],
   "source": [
    "#Using Else and Finally Blocks\n",
    "try:\n",
    "    file = open(\"test_1.txt\", \"r\")\n",
    "    content = file.read()\n",
    "except FileNotFoundError:\n",
    "    print(\"Error: File not found!\")\n",
    "else:\n",
    "    print(\"File read successfully:\", content)\n",
    "finally:\n",
    "    file.close()\n"
   ]
  },
  {
   "cell_type": "code",
   "execution_count": 9,
   "id": "d6a811aa",
   "metadata": {},
   "outputs": [
    {
     "name": "stdout",
     "output_type": "stream",
     "text": [
      "Error: Age must be 18 or older!\n"
     ]
    }
   ],
   "source": [
    "#Raising Custom Exceptions\n",
    "def check_age(age):\n",
    "    if age < 18:\n",
    "        raise ValueError(\"Age must be 18 or older!\")\n",
    "    return \"Access granted\"\n",
    "\n",
    "try:\n",
    "    print(check_age(2))\n",
    "except ValueError as e:\n",
    "    print(\"Error:\", e)"
   ]
  },
  {
   "cell_type": "code",
   "execution_count": 12,
   "id": "bdb7aa5b",
   "metadata": {},
   "outputs": [
    {
     "name": "stdout",
     "output_type": "stream",
     "text": [
      "Error: Negative number not allowed!\n"
     ]
    }
   ],
   "source": [
    "#Creating Custom Exception Classes\n",
    "class NegativeNumberError(Exception):\n",
    "    pass\n",
    "\n",
    "def check_positive(num):\n",
    "    if num < 0:\n",
    "        raise NegativeNumberError(\"Negative number not allowed!\")\n",
    "    return \"Valid number\"\n",
    "\n",
    "try:\n",
    "    print(check_positive(-25))\n",
    "except NegativeNumberError as e:\n",
    "    print(\"Error:\", e)"
   ]
  },
  {
   "cell_type": "code",
   "execution_count": null,
   "id": "0900d865",
   "metadata": {},
   "outputs": [],
   "source": []
  }
 ],
 "metadata": {
  "kernelspec": {
   "display_name": "Python 3 (ipykernel)",
   "language": "python",
   "name": "python3"
  },
  "language_info": {
   "codemirror_mode": {
    "name": "ipython",
    "version": 3
   },
   "file_extension": ".py",
   "mimetype": "text/x-python",
   "name": "python",
   "nbconvert_exporter": "python",
   "pygments_lexer": "ipython3",
   "version": "3.10.9"
  }
 },
 "nbformat": 4,
 "nbformat_minor": 5
}
